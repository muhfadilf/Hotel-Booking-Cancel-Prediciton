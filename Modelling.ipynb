{
 "cells": [
  {
   "cell_type": "markdown",
   "id": "953f417e-1d4a-4168-b8bc-261efe6b8fee",
   "metadata": {},
   "source": [
    "# Modelling"
   ]
  },
  {
   "cell_type": "markdown",
   "id": "095f2f9e-ce95-4cf4-aa2c-7cd971bbd580",
   "metadata": {},
   "source": [
    "## Eval Function"
   ]
  },
  {
   "cell_type": "code",
   "execution_count": 88,
   "id": "b6ecf557-e422-4186-a111-58b590e344eb",
   "metadata": {
    "scrolled": true,
    "tags": []
   },
   "outputs": [],
   "source": [
    "from sklearn.metrics import accuracy_score\n",
    "from sklearn.metrics import precision_score\n",
    "from sklearn.metrics import recall_score\n",
    "from sklearn.metrics import f1_score\n",
    "from sklearn.metrics import roc_curve\n",
    "from sklearn.metrics import roc_auc_score\n",
    "from sklearn.metrics import auc\n",
    "\n",
    "def eval_classification(model, pred, xtrain, ytrain, xtest, ytest):\n",
    "    print(\"Accuracy (Test Set): %.2f\" % accuracy_score(ytest, pred))\n",
    "    print(\"Precision (Test Set): %.2f\" % precision_score(ytest, pred))\n",
    "    print(\"Recall (Test Set): %.2f\" % recall_score(ytest, pred))\n",
    "    print(\"F1-Score (Test Set): %.2f\" % f1_score(ytest, pred))\n",
    "    \n",
    "    fpr, tpr, thresholds = roc_curve(ytest, pred, pos_label=1) # pos_label: label yang kita anggap positive\n",
    "    print(\"AUC: %.2f\" % auc(fpr, tpr))\n",
    "\n",
    "def show_feature_importance(model):\n",
    "    feat_importances = pd.Series(model.feature_importances_, index=X.columns)\n",
    "    ax = feat_importances.nlargest(25).plot(kind='barh', figsize=(10, 8), color = 'darkorange')\n",
    "    ax.invert_yaxis()\n",
    "\n",
    "    plt.xlabel('score')\n",
    "    plt.ylabel('feature')\n",
    "    plt.title('feature importance score')\n",
    "\n",
    "def show_best_hyperparameter(model, hyperparameters):\n",
    "    for key, value in hyperparameters.items() :\n",
    "        print('Best '+key+':', model.get_params()[key])"
   ]
  },
  {
   "cell_type": "markdown",
   "id": "d5343162-77cb-48b6-b377-e2105b72fe84",
   "metadata": {},
   "source": [
    "## Baseline"
   ]
  },
  {
   "cell_type": "code",
   "execution_count": 76,
   "id": "f8080978-128c-4625-a17f-da178d2c7976",
   "metadata": {},
   "outputs": [],
   "source": [
    "from sklearn.model_selection import train_test_split\n",
    "\n",
    "X = df_encode_bl.drop('is_canceled', axis = 1)\n",
    "y = df_encode_bl['is_canceled']\n",
    "\n",
    "X_train, X_test, y_train, y_test = train_test_split(X, y, test_size = 0.3, random_state = 42)"
   ]
  },
  {
   "cell_type": "markdown",
   "id": "ad22b8e7-ca5f-41d8-bbec-55e22ef43508",
   "metadata": {},
   "source": [
    "### Logistic Regression"
   ]
  },
  {
   "cell_type": "code",
   "execution_count": 184,
   "id": "2ad026b5-747f-4f3f-8be6-e5fe59e09bb7",
   "metadata": {},
   "outputs": [
    {
     "name": "stdout",
     "output_type": "stream",
     "text": [
      "Accuracy (Test Set): 0.80\n",
      "Precision (Test Set): 0.78\n",
      "Recall (Test Set): 0.70\n",
      "F1-Score (Test Set): 0.74\n",
      "AUC: 0.79\n"
     ]
    }
   ],
   "source": [
    "from sklearn.linear_model import LogisticRegression\n",
    "lr = LogisticRegression(random_state=42, max_iter = 1000)\n",
    "lr.fit(X_train, y_train)\n",
    "\n",
    "y_pred = lr.predict(X_test)\n",
    "eval_classification(lr, y_pred, X_train, y_train, X_test, y_test)"
   ]
  },
  {
   "cell_type": "markdown",
   "id": "93ef9eb4-97d7-4179-8c2c-7bc8b52b4671",
   "metadata": {},
   "source": [
    "### Decision Tree"
   ]
  },
  {
   "cell_type": "code",
   "execution_count": 83,
   "id": "102908fa-a3ac-4672-8b23-f8719b4f3e17",
   "metadata": {},
   "outputs": [
    {
     "name": "stdout",
     "output_type": "stream",
     "text": [
      "Accuracy (Test Set): 0.85\n",
      "Precision (Test Set): 0.81\n",
      "Recall (Test Set): 0.82\n",
      "F1-Score (Test Set): 0.81\n",
      "AUC: 0.85\n"
     ]
    }
   ],
   "source": [
    "from sklearn.tree import DecisionTreeClassifier\n",
    "model = DecisionTreeClassifier(random_state=42)\n",
    "model.fit(X_train,y_train)\n",
    "\n",
    "y_pred = model.predict(X_test)\n",
    "eval_classification(model, y_pred, X_train, y_train, X_test, y_test)"
   ]
  },
  {
   "cell_type": "markdown",
   "id": "7971c625-9e7e-4f05-b2e9-e9cec4f9716b",
   "metadata": {},
   "source": [
    "#### Hyperparameter Tuning"
   ]
  },
  {
   "cell_type": "code",
   "execution_count": 186,
   "id": "cb5654d5-90bb-4005-9753-483c8e8d50f4",
   "metadata": {
    "scrolled": true,
    "tags": []
   },
   "outputs": [
    {
     "name": "stdout",
     "output_type": "stream",
     "text": [
      "Fitting 5 folds for each of 10 candidates, totalling 50 fits\n",
      "[CV 1/5; 1/10] START criterion=entropy, max_depth=76, max_features=sqrt, min_samples_leaf=4, min_samples_split=100, splitter=best\n",
      "[CV 1/5; 1/10] END criterion=entropy, max_depth=76, max_features=sqrt, min_samples_leaf=4, min_samples_split=100, splitter=best; total time=   0.4s\n",
      "[CV 2/5; 1/10] START criterion=entropy, max_depth=76, max_features=sqrt, min_samples_leaf=4, min_samples_split=100, splitter=best\n",
      "[CV 2/5; 1/10] END criterion=entropy, max_depth=76, max_features=sqrt, min_samples_leaf=4, min_samples_split=100, splitter=best; total time=   0.4s\n",
      "[CV 3/5; 1/10] START criterion=entropy, max_depth=76, max_features=sqrt, min_samples_leaf=4, min_samples_split=100, splitter=best\n",
      "[CV 3/5; 1/10] END criterion=entropy, max_depth=76, max_features=sqrt, min_samples_leaf=4, min_samples_split=100, splitter=best; total time=   0.4s\n",
      "[CV 4/5; 1/10] START criterion=entropy, max_depth=76, max_features=sqrt, min_samples_leaf=4, min_samples_split=100, splitter=best\n",
      "[CV 4/5; 1/10] END criterion=entropy, max_depth=76, max_features=sqrt, min_samples_leaf=4, min_samples_split=100, splitter=best; total time=   0.4s\n",
      "[CV 5/5; 1/10] START criterion=entropy, max_depth=76, max_features=sqrt, min_samples_leaf=4, min_samples_split=100, splitter=best\n",
      "[CV 5/5; 1/10] END criterion=entropy, max_depth=76, max_features=sqrt, min_samples_leaf=4, min_samples_split=100, splitter=best; total time=   0.4s\n",
      "[CV 1/5; 2/10] START criterion=gini, max_depth=19, max_features=log2, min_samples_leaf=50, min_samples_split=10, splitter=best\n",
      "[CV 1/5; 2/10] END criterion=gini, max_depth=19, max_features=log2, min_samples_leaf=50, min_samples_split=10, splitter=best; total time=   0.3s\n",
      "[CV 2/5; 2/10] START criterion=gini, max_depth=19, max_features=log2, min_samples_leaf=50, min_samples_split=10, splitter=best\n",
      "[CV 2/5; 2/10] END criterion=gini, max_depth=19, max_features=log2, min_samples_leaf=50, min_samples_split=10, splitter=best; total time=   0.3s\n",
      "[CV 3/5; 2/10] START criterion=gini, max_depth=19, max_features=log2, min_samples_leaf=50, min_samples_split=10, splitter=best\n",
      "[CV 3/5; 2/10] END criterion=gini, max_depth=19, max_features=log2, min_samples_leaf=50, min_samples_split=10, splitter=best; total time=   0.2s\n",
      "[CV 4/5; 2/10] START criterion=gini, max_depth=19, max_features=log2, min_samples_leaf=50, min_samples_split=10, splitter=best\n",
      "[CV 4/5; 2/10] END criterion=gini, max_depth=19, max_features=log2, min_samples_leaf=50, min_samples_split=10, splitter=best; total time=   0.3s\n",
      "[CV 5/5; 2/10] START criterion=gini, max_depth=19, max_features=log2, min_samples_leaf=50, min_samples_split=10, splitter=best\n",
      "[CV 5/5; 2/10] END criterion=gini, max_depth=19, max_features=log2, min_samples_leaf=50, min_samples_split=10, splitter=best; total time=   0.3s\n",
      "[CV 1/5; 3/10] START criterion=entropy, max_depth=27, max_features=sqrt, min_samples_leaf=2, min_samples_split=100, splitter=best\n",
      "[CV 1/5; 3/10] END criterion=entropy, max_depth=27, max_features=sqrt, min_samples_leaf=2, min_samples_split=100, splitter=best; total time=   0.4s\n",
      "[CV 2/5; 3/10] START criterion=entropy, max_depth=27, max_features=sqrt, min_samples_leaf=2, min_samples_split=100, splitter=best\n",
      "[CV 2/5; 3/10] END criterion=entropy, max_depth=27, max_features=sqrt, min_samples_leaf=2, min_samples_split=100, splitter=best; total time=   0.4s\n",
      "[CV 3/5; 3/10] START criterion=entropy, max_depth=27, max_features=sqrt, min_samples_leaf=2, min_samples_split=100, splitter=best\n",
      "[CV 3/5; 3/10] END criterion=entropy, max_depth=27, max_features=sqrt, min_samples_leaf=2, min_samples_split=100, splitter=best; total time=   0.4s\n",
      "[CV 4/5; 3/10] START criterion=entropy, max_depth=27, max_features=sqrt, min_samples_leaf=2, min_samples_split=100, splitter=best\n",
      "[CV 4/5; 3/10] END criterion=entropy, max_depth=27, max_features=sqrt, min_samples_leaf=2, min_samples_split=100, splitter=best; total time=   0.4s\n",
      "[CV 5/5; 3/10] START criterion=entropy, max_depth=27, max_features=sqrt, min_samples_leaf=2, min_samples_split=100, splitter=best\n",
      "[CV 5/5; 3/10] END criterion=entropy, max_depth=27, max_features=sqrt, min_samples_leaf=2, min_samples_split=100, splitter=best; total time=   0.3s\n",
      "[CV 1/5; 4/10] START criterion=entropy, max_depth=23, max_features=auto, min_samples_leaf=1, min_samples_split=100, splitter=random\n",
      "[CV 1/5; 4/10] END criterion=entropy, max_depth=23, max_features=auto, min_samples_leaf=1, min_samples_split=100, splitter=random; total time=   0.3s\n",
      "[CV 2/5; 4/10] START criterion=entropy, max_depth=23, max_features=auto, min_samples_leaf=1, min_samples_split=100, splitter=random\n",
      "[CV 2/5; 4/10] END criterion=entropy, max_depth=23, max_features=auto, min_samples_leaf=1, min_samples_split=100, splitter=random; total time=   0.3s\n",
      "[CV 3/5; 4/10] START criterion=entropy, max_depth=23, max_features=auto, min_samples_leaf=1, min_samples_split=100, splitter=random\n",
      "[CV 3/5; 4/10] END criterion=entropy, max_depth=23, max_features=auto, min_samples_leaf=1, min_samples_split=100, splitter=random; total time=   0.3s\n",
      "[CV 4/5; 4/10] START criterion=entropy, max_depth=23, max_features=auto, min_samples_leaf=1, min_samples_split=100, splitter=random\n",
      "[CV 4/5; 4/10] END criterion=entropy, max_depth=23, max_features=auto, min_samples_leaf=1, min_samples_split=100, splitter=random; total time=   0.3s\n",
      "[CV 5/5; 4/10] START criterion=entropy, max_depth=23, max_features=auto, min_samples_leaf=1, min_samples_split=100, splitter=random\n",
      "[CV 5/5; 4/10] END criterion=entropy, max_depth=23, max_features=auto, min_samples_leaf=1, min_samples_split=100, splitter=random; total time=   0.3s\n",
      "[CV 1/5; 5/10] START criterion=entropy, max_depth=34, max_features=log2, min_samples_leaf=4, min_samples_split=100, splitter=best\n",
      "[CV 1/5; 5/10] END criterion=entropy, max_depth=34, max_features=log2, min_samples_leaf=4, min_samples_split=100, splitter=best; total time=   0.3s\n",
      "[CV 2/5; 5/10] START criterion=entropy, max_depth=34, max_features=log2, min_samples_leaf=4, min_samples_split=100, splitter=best\n",
      "[CV 2/5; 5/10] END criterion=entropy, max_depth=34, max_features=log2, min_samples_leaf=4, min_samples_split=100, splitter=best; total time=   0.3s\n",
      "[CV 3/5; 5/10] START criterion=entropy, max_depth=34, max_features=log2, min_samples_leaf=4, min_samples_split=100, splitter=best\n",
      "[CV 3/5; 5/10] END criterion=entropy, max_depth=34, max_features=log2, min_samples_leaf=4, min_samples_split=100, splitter=best; total time=   0.3s\n",
      "[CV 4/5; 5/10] START criterion=entropy, max_depth=34, max_features=log2, min_samples_leaf=4, min_samples_split=100, splitter=best\n",
      "[CV 4/5; 5/10] END criterion=entropy, max_depth=34, max_features=log2, min_samples_leaf=4, min_samples_split=100, splitter=best; total time=   0.3s\n",
      "[CV 5/5; 5/10] START criterion=entropy, max_depth=34, max_features=log2, min_samples_leaf=4, min_samples_split=100, splitter=best\n",
      "[CV 5/5; 5/10] END criterion=entropy, max_depth=34, max_features=log2, min_samples_leaf=4, min_samples_split=100, splitter=best; total time=   0.3s\n",
      "[CV 1/5; 6/10] START criterion=entropy, max_depth=49, max_features=sqrt, min_samples_leaf=10, min_samples_split=2, splitter=random\n",
      "[CV 1/5; 6/10] END criterion=entropy, max_depth=49, max_features=sqrt, min_samples_leaf=10, min_samples_split=2, splitter=random; total time=   0.3s\n",
      "[CV 2/5; 6/10] START criterion=entropy, max_depth=49, max_features=sqrt, min_samples_leaf=10, min_samples_split=2, splitter=random\n",
      "[CV 2/5; 6/10] END criterion=entropy, max_depth=49, max_features=sqrt, min_samples_leaf=10, min_samples_split=2, splitter=random; total time=   0.3s\n",
      "[CV 3/5; 6/10] START criterion=entropy, max_depth=49, max_features=sqrt, min_samples_leaf=10, min_samples_split=2, splitter=random\n",
      "[CV 3/5; 6/10] END criterion=entropy, max_depth=49, max_features=sqrt, min_samples_leaf=10, min_samples_split=2, splitter=random; total time=   0.3s\n",
      "[CV 4/5; 6/10] START criterion=entropy, max_depth=49, max_features=sqrt, min_samples_leaf=10, min_samples_split=2, splitter=random\n",
      "[CV 4/5; 6/10] END criterion=entropy, max_depth=49, max_features=sqrt, min_samples_leaf=10, min_samples_split=2, splitter=random; total time=   0.3s\n",
      "[CV 5/5; 6/10] START criterion=entropy, max_depth=49, max_features=sqrt, min_samples_leaf=10, min_samples_split=2, splitter=random\n",
      "[CV 5/5; 6/10] END criterion=entropy, max_depth=49, max_features=sqrt, min_samples_leaf=10, min_samples_split=2, splitter=random; total time=   0.3s\n",
      "[CV 1/5; 7/10] START criterion=gini, max_depth=12, max_features=auto, min_samples_leaf=20, min_samples_split=5, splitter=best\n",
      "[CV 1/5; 7/10] END criterion=gini, max_depth=12, max_features=auto, min_samples_leaf=20, min_samples_split=5, splitter=best; total time=   0.3s\n",
      "[CV 2/5; 7/10] START criterion=gini, max_depth=12, max_features=auto, min_samples_leaf=20, min_samples_split=5, splitter=best\n",
      "[CV 2/5; 7/10] END criterion=gini, max_depth=12, max_features=auto, min_samples_leaf=20, min_samples_split=5, splitter=best; total time=   0.3s\n",
      "[CV 3/5; 7/10] START criterion=gini, max_depth=12, max_features=auto, min_samples_leaf=20, min_samples_split=5, splitter=best\n",
      "[CV 3/5; 7/10] END criterion=gini, max_depth=12, max_features=auto, min_samples_leaf=20, min_samples_split=5, splitter=best; total time=   0.3s\n",
      "[CV 4/5; 7/10] START criterion=gini, max_depth=12, max_features=auto, min_samples_leaf=20, min_samples_split=5, splitter=best\n",
      "[CV 4/5; 7/10] END criterion=gini, max_depth=12, max_features=auto, min_samples_leaf=20, min_samples_split=5, splitter=best; total time=   0.3s\n",
      "[CV 5/5; 7/10] START criterion=gini, max_depth=12, max_features=auto, min_samples_leaf=20, min_samples_split=5, splitter=best\n",
      "[CV 5/5; 7/10] END criterion=gini, max_depth=12, max_features=auto, min_samples_leaf=20, min_samples_split=5, splitter=best; total time=   0.3s\n",
      "[CV 1/5; 8/10] START criterion=entropy, max_depth=1, max_features=log2, min_samples_leaf=2, min_samples_split=5, splitter=best\n",
      "[CV 1/5; 8/10] END criterion=entropy, max_depth=1, max_features=log2, min_samples_leaf=2, min_samples_split=5, splitter=best; total time=   0.2s\n",
      "[CV 2/5; 8/10] START criterion=entropy, max_depth=1, max_features=log2, min_samples_leaf=2, min_samples_split=5, splitter=best\n",
      "[CV 2/5; 8/10] END criterion=entropy, max_depth=1, max_features=log2, min_samples_leaf=2, min_samples_split=5, splitter=best; total time=   0.2s\n",
      "[CV 3/5; 8/10] START criterion=entropy, max_depth=1, max_features=log2, min_samples_leaf=2, min_samples_split=5, splitter=best\n",
      "[CV 3/5; 8/10] END criterion=entropy, max_depth=1, max_features=log2, min_samples_leaf=2, min_samples_split=5, splitter=best; total time=   0.2s\n",
      "[CV 4/5; 8/10] START criterion=entropy, max_depth=1, max_features=log2, min_samples_leaf=2, min_samples_split=5, splitter=best\n",
      "[CV 4/5; 8/10] END criterion=entropy, max_depth=1, max_features=log2, min_samples_leaf=2, min_samples_split=5, splitter=best; total time=   0.2s\n",
      "[CV 5/5; 8/10] START criterion=entropy, max_depth=1, max_features=log2, min_samples_leaf=2, min_samples_split=5, splitter=best\n",
      "[CV 5/5; 8/10] END criterion=entropy, max_depth=1, max_features=log2, min_samples_leaf=2, min_samples_split=5, splitter=best; total time=   0.2s\n",
      "[CV 1/5; 9/10] START criterion=entropy, max_depth=31, max_features=log2, min_samples_leaf=2, min_samples_split=5, splitter=best\n",
      "[CV 1/5; 9/10] END criterion=entropy, max_depth=31, max_features=log2, min_samples_leaf=2, min_samples_split=5, splitter=best; total time=   0.3s\n",
      "[CV 2/5; 9/10] START criterion=entropy, max_depth=31, max_features=log2, min_samples_leaf=2, min_samples_split=5, splitter=best\n",
      "[CV 2/5; 9/10] END criterion=entropy, max_depth=31, max_features=log2, min_samples_leaf=2, min_samples_split=5, splitter=best; total time=   0.3s\n",
      "[CV 3/5; 9/10] START criterion=entropy, max_depth=31, max_features=log2, min_samples_leaf=2, min_samples_split=5, splitter=best\n",
      "[CV 3/5; 9/10] END criterion=entropy, max_depth=31, max_features=log2, min_samples_leaf=2, min_samples_split=5, splitter=best; total time=   0.3s\n",
      "[CV 4/5; 9/10] START criterion=entropy, max_depth=31, max_features=log2, min_samples_leaf=2, min_samples_split=5, splitter=best\n",
      "[CV 4/5; 9/10] END criterion=entropy, max_depth=31, max_features=log2, min_samples_leaf=2, min_samples_split=5, splitter=best; total time=   0.3s\n",
      "[CV 5/5; 9/10] START criterion=entropy, max_depth=31, max_features=log2, min_samples_leaf=2, min_samples_split=5, splitter=best\n",
      "[CV 5/5; 9/10] END criterion=entropy, max_depth=31, max_features=log2, min_samples_leaf=2, min_samples_split=5, splitter=best; total time=   0.3s\n",
      "[CV 1/5; 10/10] START criterion=entropy, max_depth=102, max_features=log2, min_samples_leaf=4, min_samples_split=5, splitter=best\n",
      "[CV 1/5; 10/10] END criterion=entropy, max_depth=102, max_features=log2, min_samples_leaf=4, min_samples_split=5, splitter=best; total time=   0.3s\n",
      "[CV 2/5; 10/10] START criterion=entropy, max_depth=102, max_features=log2, min_samples_leaf=4, min_samples_split=5, splitter=best\n",
      "[CV 2/5; 10/10] END criterion=entropy, max_depth=102, max_features=log2, min_samples_leaf=4, min_samples_split=5, splitter=best; total time=   0.3s\n",
      "[CV 3/5; 10/10] START criterion=entropy, max_depth=102, max_features=log2, min_samples_leaf=4, min_samples_split=5, splitter=best\n",
      "[CV 3/5; 10/10] END criterion=entropy, max_depth=102, max_features=log2, min_samples_leaf=4, min_samples_split=5, splitter=best; total time=   0.3s\n",
      "[CV 4/5; 10/10] START criterion=entropy, max_depth=102, max_features=log2, min_samples_leaf=4, min_samples_split=5, splitter=best\n",
      "[CV 4/5; 10/10] END criterion=entropy, max_depth=102, max_features=log2, min_samples_leaf=4, min_samples_split=5, splitter=best; total time=   0.3s\n",
      "[CV 5/5; 10/10] START criterion=entropy, max_depth=102, max_features=log2, min_samples_leaf=4, min_samples_split=5, splitter=best\n",
      "[CV 5/5; 10/10] END criterion=entropy, max_depth=102, max_features=log2, min_samples_leaf=4, min_samples_split=5, splitter=best; total time=   0.3s\n",
      "Accuracy (Test Set): 0.81\n",
      "Precision (Test Set): 0.79\n",
      "Recall (Test Set): 0.70\n",
      "F1-Score (Test Set): 0.74\n",
      "AUC: 0.79\n"
     ]
    }
   ],
   "source": [
    "from sklearn.model_selection import RandomizedSearchCV, GridSearchCV\n",
    "from scipy.stats import uniform\n",
    "import numpy as np\n",
    "\n",
    "# List of hyperparameter\n",
    "criterion = ['gini', 'entropy']\n",
    "splitter = ['best', 'random']\n",
    "max_depth = [int(x) for x in np.linspace(1, 110, num = 30)] # Maximum number of levels in tree\n",
    "min_samples_split = [2, 5, 10, 100] # Minimum number of samples required to split a node\n",
    "min_samples_leaf = [1, 2, 4, 10, 20, 50] # Minimum number of samples required at each leaf node\n",
    "max_features = ['auto', 'sqrt', 'log2'] # Number of features to consider at every split\n",
    "\n",
    "hyperparameters = dict(max_depth=max_depth, \n",
    "                       min_samples_split=min_samples_split, \n",
    "                       min_samples_leaf=min_samples_leaf,\n",
    "                       max_features=max_features,\n",
    "                       criterion = criterion,\n",
    "                       splitter = splitter\n",
    "                      )\n",
    "\n",
    "# Inisialisasi Model\n",
    "dt = DecisionTreeClassifier(random_state=42)\n",
    "model = RandomizedSearchCV(dt, hyperparameters, cv=5, random_state=42,  verbose = 10)\n",
    "model.fit(X_train, y_train)\n",
    "\n",
    "# Predict & Evaluation\n",
    "y_pred = model.predict(X_test)#Check performa dari model\n",
    "eval_classification(model, y_pred, X_train, y_train, X_test, y_test)"
   ]
  },
  {
   "cell_type": "markdown",
   "id": "bebc3517-14c8-49fe-bb2d-f9a26a2dd1bb",
   "metadata": {},
   "source": [
    "### Adaboost"
   ]
  },
  {
   "cell_type": "code",
   "execution_count": 187,
   "id": "fd850673-ca67-45ee-9a90-3a0ef493feb8",
   "metadata": {},
   "outputs": [
    {
     "name": "stdout",
     "output_type": "stream",
     "text": [
      "Accuracy (Test Set): 0.83\n",
      "Precision (Test Set): 0.82\n",
      "Recall (Test Set): 0.71\n",
      "F1-Score (Test Set): 0.76\n",
      "AUC: 0.81\n"
     ]
    }
   ],
   "source": [
    "from sklearn.ensemble import AdaBoostClassifier\n",
    "ab = AdaBoostClassifier(random_state=42)\n",
    "ab.fit(X_train,y_train)\n",
    "\n",
    "y_pred = ab.predict(X_test)\n",
    "eval_classification(ab, y_pred, X_train, y_train, X_test, y_test)"
   ]
  },
  {
   "cell_type": "markdown",
   "id": "8334bb31-3645-4f0a-bb5e-326c797fe024",
   "metadata": {},
   "source": [
    "### Random Forest (FIX MODEL)"
   ]
  },
  {
   "cell_type": "code",
   "execution_count": 101,
   "id": "7c598bc9-c827-4d8d-95e7-5a822fa45beb",
   "metadata": {},
   "outputs": [
    {
     "name": "stdout",
     "output_type": "stream",
     "text": [
      "Accuracy (Test Set): 0.89\n",
      "Precision (Test Set): 0.89\n",
      "Recall (Test Set): 0.81\n",
      "F1-Score (Test Set): 0.85\n",
      "AUC: 0.87\n"
     ]
    }
   ],
   "source": [
    "from sklearn.ensemble import RandomForestClassifier\n",
    "rf = RandomForestClassifier(random_state=42)\n",
    "rf.fit(X_train,y_train)\n",
    "\n",
    "y_pred = rf.predict(X_test)\n",
    "eval_classification(rf, y_pred, X_train, y_train, X_test, y_test)"
   ]
  },
  {
   "cell_type": "code",
   "execution_count": 92,
   "id": "97252a97-127f-4dfb-ac99-5695f4875a00",
   "metadata": {},
   "outputs": [
    {
     "data": {
      "image/png": "[encoded data removed]",
      "text/plain": [
       "<Figure size 720x576 with 1 Axes>"
      ]
     },
     "metadata": {
      "needs_background": "light"
     },
     "output_type": "display_data"
    }
   ],
   "source": [
    "show_feature_importance(rf)"
   ]
  },
  {
   "cell_type": "markdown",
   "id": "44931b3e-97ce-43d4-9838-466d539e529e",
   "metadata": {},
   "source": [
    "### Model Interpretation"
   ]
  },
  {
   "cell_type": "code",
   "execution_count": null,
   "id": "b967e82c-a948-4e53-b639-983af3df37a8",
   "metadata": {},
   "outputs": [],
   "source": [
    "import shap\n",
    "from shap import summary_plot\n",
    "\n",
    "explainer = shap.Explainer(rf)\n",
    "shap_values = explainer(X)"
   ]
  },
  {
   "cell_type": "code",
   "execution_count": null,
   "id": "377478ea-edb6-451e-a26c-573b011fd526",
   "metadata": {},
   "outputs": [],
   "source": [
    "# user who canceled\n",
    "\n",
    "shap.plots.waterfall(shap_values[4])"
   ]
  },
  {
   "cell_type": "markdown",
   "id": "88018735-436e-4e07-8359-dd112356a4f9",
   "metadata": {},
   "source": [
    "#### Hyperparameter Tuning"
   ]
  },
  {
   "cell_type": "code",
   "execution_count": 189,
   "id": "27d0551f-a173-409e-a616-2e67d8237322",
   "metadata": {
    "scrolled": true,
    "tags": []
   },
   "outputs": [
    {
     "name": "stdout",
     "output_type": "stream",
     "text": [
      "Fitting 5 folds for each of 10 candidates, totalling 50 fits\n",
      "[CV 1/5; 1/10] START bootstrap=True, criterion=gini, max_depth=110, max_features=sqrt, min_samples_leaf=5, min_samples_split=10, n_estimators=1600, n_jobs=-1\n",
      "[CV 1/5; 1/10] END bootstrap=True, criterion=gini, max_depth=110, max_features=sqrt, min_samples_leaf=5, min_samples_split=10, n_estimators=1600, n_jobs=-1; total time= 1.2min\n",
      "[CV 2/5; 1/10] START bootstrap=True, criterion=gini, max_depth=110, max_features=sqrt, min_samples_leaf=5, min_samples_split=10, n_estimators=1600, n_jobs=-1\n",
      "[CV 2/5; 1/10] END bootstrap=True, criterion=gini, max_depth=110, max_features=sqrt, min_samples_leaf=5, min_samples_split=10, n_estimators=1600, n_jobs=-1; total time= 1.1min\n",
      "[CV 3/5; 1/10] START bootstrap=True, criterion=gini, max_depth=110, max_features=sqrt, min_samples_leaf=5, min_samples_split=10, n_estimators=1600, n_jobs=-1\n",
      "[CV 3/5; 1/10] END bootstrap=True, criterion=gini, max_depth=110, max_features=sqrt, min_samples_leaf=5, min_samples_split=10, n_estimators=1600, n_jobs=-1; total time= 1.1min\n",
      "[CV 4/5; 1/10] START bootstrap=True, criterion=gini, max_depth=110, max_features=sqrt, min_samples_leaf=5, min_samples_split=10, n_estimators=1600, n_jobs=-1\n",
      "[CV 4/5; 1/10] END bootstrap=True, criterion=gini, max_depth=110, max_features=sqrt, min_samples_leaf=5, min_samples_split=10, n_estimators=1600, n_jobs=-1; total time= 1.1min\n",
      "[CV 5/5; 1/10] START bootstrap=True, criterion=gini, max_depth=110, max_features=sqrt, min_samples_leaf=5, min_samples_split=10, n_estimators=1600, n_jobs=-1\n",
      "[CV 5/5; 1/10] END bootstrap=True, criterion=gini, max_depth=110, max_features=sqrt, min_samples_leaf=5, min_samples_split=10, n_estimators=1600, n_jobs=-1; total time= 1.1min\n",
      "[CV 1/5; 2/10] START bootstrap=True, criterion=gini, max_depth=10, max_features=sqrt, min_samples_leaf=7, min_samples_split=8, n_estimators=100, n_jobs=-1\n",
      "[CV 1/5; 2/10] END bootstrap=True, criterion=gini, max_depth=10, max_features=sqrt, min_samples_leaf=7, min_samples_split=8, n_estimators=100, n_jobs=-1; total time=   2.8s\n",
      "[CV 2/5; 2/10] START bootstrap=True, criterion=gini, max_depth=10, max_features=sqrt, min_samples_leaf=7, min_samples_split=8, n_estimators=100, n_jobs=-1\n",
      "[CV 2/5; 2/10] END bootstrap=True, criterion=gini, max_depth=10, max_features=sqrt, min_samples_leaf=7, min_samples_split=8, n_estimators=100, n_jobs=-1; total time=   2.7s\n",
      "[CV 3/5; 2/10] START bootstrap=True, criterion=gini, max_depth=10, max_features=sqrt, min_samples_leaf=7, min_samples_split=8, n_estimators=100, n_jobs=-1\n",
      "[CV 3/5; 2/10] END bootstrap=True, criterion=gini, max_depth=10, max_features=sqrt, min_samples_leaf=7, min_samples_split=8, n_estimators=100, n_jobs=-1; total time=   2.6s\n",
      "[CV 4/5; 2/10] START bootstrap=True, criterion=gini, max_depth=10, max_features=sqrt, min_samples_leaf=7, min_samples_split=8, n_estimators=100, n_jobs=-1\n",
      "[CV 4/5; 2/10] END bootstrap=True, criterion=gini, max_depth=10, max_features=sqrt, min_samples_leaf=7, min_samples_split=8, n_estimators=100, n_jobs=-1; total time=   2.7s\n",
      "[CV 5/5; 2/10] START bootstrap=True, criterion=gini, max_depth=10, max_features=sqrt, min_samples_leaf=7, min_samples_split=8, n_estimators=100, n_jobs=-1\n",
      "[CV 5/5; 2/10] END bootstrap=True, criterion=gini, max_depth=10, max_features=sqrt, min_samples_leaf=7, min_samples_split=8, n_estimators=100, n_jobs=-1; total time=   2.5s\n",
      "[CV 1/5; 3/10] START bootstrap=True, criterion=gini, max_depth=80, max_features=sqrt, min_samples_leaf=5, min_samples_split=10, n_estimators=500, n_jobs=-1\n",
      "[CV 1/5; 3/10] END bootstrap=True, criterion=gini, max_depth=80, max_features=sqrt, min_samples_leaf=5, min_samples_split=10, n_estimators=500, n_jobs=-1; total time=  20.9s\n",
      "[CV 2/5; 3/10] START bootstrap=True, criterion=gini, max_depth=80, max_features=sqrt, min_samples_leaf=5, min_samples_split=10, n_estimators=500, n_jobs=-1\n",
      "[CV 2/5; 3/10] END bootstrap=True, criterion=gini, max_depth=80, max_features=sqrt, min_samples_leaf=5, min_samples_split=10, n_estimators=500, n_jobs=-1; total time=  20.9s\n",
      "[CV 3/5; 3/10] START bootstrap=True, criterion=gini, max_depth=80, max_features=sqrt, min_samples_leaf=5, min_samples_split=10, n_estimators=500, n_jobs=-1\n",
      "[CV 3/5; 3/10] END bootstrap=True, criterion=gini, max_depth=80, max_features=sqrt, min_samples_leaf=5, min_samples_split=10, n_estimators=500, n_jobs=-1; total time=  20.9s\n",
      "[CV 4/5; 3/10] START bootstrap=True, criterion=gini, max_depth=80, max_features=sqrt, min_samples_leaf=5, min_samples_split=10, n_estimators=500, n_jobs=-1\n",
      "[CV 4/5; 3/10] END bootstrap=True, criterion=gini, max_depth=80, max_features=sqrt, min_samples_leaf=5, min_samples_split=10, n_estimators=500, n_jobs=-1; total time=  20.9s\n",
      "[CV 5/5; 3/10] START bootstrap=True, criterion=gini, max_depth=80, max_features=sqrt, min_samples_leaf=5, min_samples_split=10, n_estimators=500, n_jobs=-1\n",
      "[CV 5/5; 3/10] END bootstrap=True, criterion=gini, max_depth=80, max_features=sqrt, min_samples_leaf=5, min_samples_split=10, n_estimators=500, n_jobs=-1; total time=  20.9s\n",
      "[CV 1/5; 4/10] START bootstrap=True, criterion=gini, max_depth=50, max_features=auto, min_samples_leaf=5, min_samples_split=8, n_estimators=600, n_jobs=-1\n",
      "[CV 1/5; 4/10] END bootstrap=True, criterion=gini, max_depth=50, max_features=auto, min_samples_leaf=5, min_samples_split=8, n_estimators=600, n_jobs=-1; total time=  24.9s\n",
      "[CV 2/5; 4/10] START bootstrap=True, criterion=gini, max_depth=50, max_features=auto, min_samples_leaf=5, min_samples_split=8, n_estimators=600, n_jobs=-1\n",
      "[CV 2/5; 4/10] END bootstrap=True, criterion=gini, max_depth=50, max_features=auto, min_samples_leaf=5, min_samples_split=8, n_estimators=600, n_jobs=-1; total time=  24.8s\n",
      "[CV 3/5; 4/10] START bootstrap=True, criterion=gini, max_depth=50, max_features=auto, min_samples_leaf=5, min_samples_split=8, n_estimators=600, n_jobs=-1\n",
      "[CV 3/5; 4/10] END bootstrap=True, criterion=gini, max_depth=50, max_features=auto, min_samples_leaf=5, min_samples_split=8, n_estimators=600, n_jobs=-1; total time=  25.0s\n",
      "[CV 4/5; 4/10] START bootstrap=True, criterion=gini, max_depth=50, max_features=auto, min_samples_leaf=5, min_samples_split=8, n_estimators=600, n_jobs=-1\n",
      "[CV 4/5; 4/10] END bootstrap=True, criterion=gini, max_depth=50, max_features=auto, min_samples_leaf=5, min_samples_split=8, n_estimators=600, n_jobs=-1; total time=  25.1s\n",
      "[CV 5/5; 4/10] START bootstrap=True, criterion=gini, max_depth=50, max_features=auto, min_samples_leaf=5, min_samples_split=8, n_estimators=600, n_jobs=-1\n",
      "[CV 5/5; 4/10] END bootstrap=True, criterion=gini, max_depth=50, max_features=auto, min_samples_leaf=5, min_samples_split=8, n_estimators=600, n_jobs=-1; total time=  24.9s\n",
      "[CV 1/5; 5/10] START bootstrap=True, criterion=entropy, max_depth=10, max_features=auto, min_samples_leaf=7, min_samples_split=6, n_estimators=1100, n_jobs=-1\n",
      "[CV 1/5; 5/10] END bootstrap=True, criterion=entropy, max_depth=10, max_features=auto, min_samples_leaf=7, min_samples_split=6, n_estimators=1100, n_jobs=-1; total time=  20.9s\n",
      "[CV 2/5; 5/10] START bootstrap=True, criterion=entropy, max_depth=10, max_features=auto, min_samples_leaf=7, min_samples_split=6, n_estimators=1100, n_jobs=-1\n",
      "[CV 2/5; 5/10] END bootstrap=True, criterion=entropy, max_depth=10, max_features=auto, min_samples_leaf=7, min_samples_split=6, n_estimators=1100, n_jobs=-1; total time=  24.1s\n",
      "[CV 3/5; 5/10] START bootstrap=True, criterion=entropy, max_depth=10, max_features=auto, min_samples_leaf=7, min_samples_split=6, n_estimators=1100, n_jobs=-1\n",
      "[CV 3/5; 5/10] END bootstrap=True, criterion=entropy, max_depth=10, max_features=auto, min_samples_leaf=7, min_samples_split=6, n_estimators=1100, n_jobs=-1; total time=  24.3s\n",
      "[CV 4/5; 5/10] START bootstrap=True, criterion=entropy, max_depth=10, max_features=auto, min_samples_leaf=7, min_samples_split=6, n_estimators=1100, n_jobs=-1\n",
      "[CV 4/5; 5/10] END bootstrap=True, criterion=entropy, max_depth=10, max_features=auto, min_samples_leaf=7, min_samples_split=6, n_estimators=1100, n_jobs=-1; total time=  24.9s\n",
      "[CV 5/5; 5/10] START bootstrap=True, criterion=entropy, max_depth=10, max_features=auto, min_samples_leaf=7, min_samples_split=6, n_estimators=1100, n_jobs=-1\n",
      "[CV 5/5; 5/10] END bootstrap=True, criterion=entropy, max_depth=10, max_features=auto, min_samples_leaf=7, min_samples_split=6, n_estimators=1100, n_jobs=-1; total time=  24.2s\n",
      "[CV 1/5; 6/10] START bootstrap=True, criterion=entropy, max_depth=40, max_features=sqrt, min_samples_leaf=10, min_samples_split=8, n_estimators=300, n_jobs=-1\n",
      "[CV 1/5; 6/10] END bootstrap=True, criterion=entropy, max_depth=40, max_features=sqrt, min_samples_leaf=10, min_samples_split=8, n_estimators=300, n_jobs=-1; total time=  11.5s\n",
      "[CV 2/5; 6/10] START bootstrap=True, criterion=entropy, max_depth=40, max_features=sqrt, min_samples_leaf=10, min_samples_split=8, n_estimators=300, n_jobs=-1\n",
      "[CV 2/5; 6/10] END bootstrap=True, criterion=entropy, max_depth=40, max_features=sqrt, min_samples_leaf=10, min_samples_split=8, n_estimators=300, n_jobs=-1; total time=  11.4s\n",
      "[CV 3/5; 6/10] START bootstrap=True, criterion=entropy, max_depth=40, max_features=sqrt, min_samples_leaf=10, min_samples_split=8, n_estimators=300, n_jobs=-1\n",
      "[CV 3/5; 6/10] END bootstrap=True, criterion=entropy, max_depth=40, max_features=sqrt, min_samples_leaf=10, min_samples_split=8, n_estimators=300, n_jobs=-1; total time=  11.3s\n",
      "[CV 4/5; 6/10] START bootstrap=True, criterion=entropy, max_depth=40, max_features=sqrt, min_samples_leaf=10, min_samples_split=8, n_estimators=300, n_jobs=-1\n",
      "[CV 4/5; 6/10] END bootstrap=True, criterion=entropy, max_depth=40, max_features=sqrt, min_samples_leaf=10, min_samples_split=8, n_estimators=300, n_jobs=-1; total time=  11.4s\n",
      "[CV 5/5; 6/10] START bootstrap=True, criterion=entropy, max_depth=40, max_features=sqrt, min_samples_leaf=10, min_samples_split=8, n_estimators=300, n_jobs=-1\n",
      "[CV 5/5; 6/10] END bootstrap=True, criterion=entropy, max_depth=40, max_features=sqrt, min_samples_leaf=10, min_samples_split=8, n_estimators=300, n_jobs=-1; total time=  11.5s\n",
      "[CV 1/5; 7/10] START bootstrap=True, criterion=gini, max_depth=110, max_features=log2, min_samples_leaf=1, min_samples_split=4, n_estimators=400, n_jobs=-1\n",
      "[CV 1/5; 7/10] END bootstrap=True, criterion=gini, max_depth=110, max_features=log2, min_samples_leaf=1, min_samples_split=4, n_estimators=400, n_jobs=-1; total time=  20.3s\n",
      "[CV 2/5; 7/10] START bootstrap=True, criterion=gini, max_depth=110, max_features=log2, min_samples_leaf=1, min_samples_split=4, n_estimators=400, n_jobs=-1\n",
      "[CV 2/5; 7/10] END bootstrap=True, criterion=gini, max_depth=110, max_features=log2, min_samples_leaf=1, min_samples_split=4, n_estimators=400, n_jobs=-1; total time=  20.3s\n",
      "[CV 3/5; 7/10] START bootstrap=True, criterion=gini, max_depth=110, max_features=log2, min_samples_leaf=1, min_samples_split=4, n_estimators=400, n_jobs=-1\n",
      "[CV 3/5; 7/10] END bootstrap=True, criterion=gini, max_depth=110, max_features=log2, min_samples_leaf=1, min_samples_split=4, n_estimators=400, n_jobs=-1; total time=  20.2s\n",
      "[CV 4/5; 7/10] START bootstrap=True, criterion=gini, max_depth=110, max_features=log2, min_samples_leaf=1, min_samples_split=4, n_estimators=400, n_jobs=-1\n",
      "[CV 4/5; 7/10] END bootstrap=True, criterion=gini, max_depth=110, max_features=log2, min_samples_leaf=1, min_samples_split=4, n_estimators=400, n_jobs=-1; total time=  20.4s\n",
      "[CV 5/5; 7/10] START bootstrap=True, criterion=gini, max_depth=110, max_features=log2, min_samples_leaf=1, min_samples_split=4, n_estimators=400, n_jobs=-1\n",
      "[CV 5/5; 7/10] END bootstrap=True, criterion=gini, max_depth=110, max_features=log2, min_samples_leaf=1, min_samples_split=4, n_estimators=400, n_jobs=-1; total time=  20.4s\n",
      "[CV 1/5; 8/10] START bootstrap=True, criterion=gini, max_depth=20, max_features=auto, min_samples_leaf=3, min_samples_split=10, n_estimators=600, n_jobs=-1\n",
      "[CV 1/5; 8/10] END bootstrap=True, criterion=gini, max_depth=20, max_features=auto, min_samples_leaf=3, min_samples_split=10, n_estimators=600, n_jobs=-1; total time=  22.7s\n",
      "[CV 2/5; 8/10] START bootstrap=True, criterion=gini, max_depth=20, max_features=auto, min_samples_leaf=3, min_samples_split=10, n_estimators=600, n_jobs=-1\n",
      "[CV 2/5; 8/10] END bootstrap=True, criterion=gini, max_depth=20, max_features=auto, min_samples_leaf=3, min_samples_split=10, n_estimators=600, n_jobs=-1; total time=  22.5s\n",
      "[CV 3/5; 8/10] START bootstrap=True, criterion=gini, max_depth=20, max_features=auto, min_samples_leaf=3, min_samples_split=10, n_estimators=600, n_jobs=-1\n",
      "[CV 3/5; 8/10] END bootstrap=True, criterion=gini, max_depth=20, max_features=auto, min_samples_leaf=3, min_samples_split=10, n_estimators=600, n_jobs=-1; total time=  22.6s\n",
      "[CV 4/5; 8/10] START bootstrap=True, criterion=gini, max_depth=20, max_features=auto, min_samples_leaf=3, min_samples_split=10, n_estimators=600, n_jobs=-1\n",
      "[CV 4/5; 8/10] END bootstrap=True, criterion=gini, max_depth=20, max_features=auto, min_samples_leaf=3, min_samples_split=10, n_estimators=600, n_jobs=-1; total time=  22.6s\n",
      "[CV 5/5; 8/10] START bootstrap=True, criterion=gini, max_depth=20, max_features=auto, min_samples_leaf=3, min_samples_split=10, n_estimators=600, n_jobs=-1\n",
      "[CV 5/5; 8/10] END bootstrap=True, criterion=gini, max_depth=20, max_features=auto, min_samples_leaf=3, min_samples_split=10, n_estimators=600, n_jobs=-1; total time=  22.7s\n",
      "[CV 1/5; 9/10] START bootstrap=True, criterion=gini, max_depth=10, max_features=sqrt, min_samples_leaf=5, min_samples_split=8, n_estimators=1000, n_jobs=-1\n",
      "[CV 1/5; 9/10] END bootstrap=True, criterion=gini, max_depth=10, max_features=sqrt, min_samples_leaf=5, min_samples_split=8, n_estimators=1000, n_jobs=-1; total time=  22.0s\n",
      "[CV 2/5; 9/10] START bootstrap=True, criterion=gini, max_depth=10, max_features=sqrt, min_samples_leaf=5, min_samples_split=8, n_estimators=1000, n_jobs=-1\n",
      "[CV 2/5; 9/10] END bootstrap=True, criterion=gini, max_depth=10, max_features=sqrt, min_samples_leaf=5, min_samples_split=8, n_estimators=1000, n_jobs=-1; total time=  19.1s\n",
      "[CV 3/5; 9/10] START bootstrap=True, criterion=gini, max_depth=10, max_features=sqrt, min_samples_leaf=5, min_samples_split=8, n_estimators=1000, n_jobs=-1\n",
      "[CV 3/5; 9/10] END bootstrap=True, criterion=gini, max_depth=10, max_features=sqrt, min_samples_leaf=5, min_samples_split=8, n_estimators=1000, n_jobs=-1; total time=  21.9s\n",
      "[CV 4/5; 9/10] START bootstrap=True, criterion=gini, max_depth=10, max_features=sqrt, min_samples_leaf=5, min_samples_split=8, n_estimators=1000, n_jobs=-1\n",
      "[CV 4/5; 9/10] END bootstrap=True, criterion=gini, max_depth=10, max_features=sqrt, min_samples_leaf=5, min_samples_split=8, n_estimators=1000, n_jobs=-1; total time=  19.0s\n",
      "[CV 5/5; 9/10] START bootstrap=True, criterion=gini, max_depth=10, max_features=sqrt, min_samples_leaf=5, min_samples_split=8, n_estimators=1000, n_jobs=-1\n",
      "[CV 5/5; 9/10] END bootstrap=True, criterion=gini, max_depth=10, max_features=sqrt, min_samples_leaf=5, min_samples_split=8, n_estimators=1000, n_jobs=-1; total time=  19.0s\n",
      "[CV 1/5; 10/10] START bootstrap=True, criterion=gini, max_depth=20, max_features=sqrt, min_samples_leaf=10, min_samples_split=4, n_estimators=1400, n_jobs=-1\n",
      "[CV 1/5; 10/10] END bootstrap=True, criterion=gini, max_depth=20, max_features=sqrt, min_samples_leaf=10, min_samples_split=4, n_estimators=1400, n_jobs=-1; total time=  46.5s\n",
      "[CV 2/5; 10/10] START bootstrap=True, criterion=gini, max_depth=20, max_features=sqrt, min_samples_leaf=10, min_samples_split=4, n_estimators=1400, n_jobs=-1\n",
      "[CV 2/5; 10/10] END bootstrap=True, criterion=gini, max_depth=20, max_features=sqrt, min_samples_leaf=10, min_samples_split=4, n_estimators=1400, n_jobs=-1; total time=  46.7s\n",
      "[CV 3/5; 10/10] START bootstrap=True, criterion=gini, max_depth=20, max_features=sqrt, min_samples_leaf=10, min_samples_split=4, n_estimators=1400, n_jobs=-1\n",
      "[CV 3/5; 10/10] END bootstrap=True, criterion=gini, max_depth=20, max_features=sqrt, min_samples_leaf=10, min_samples_split=4, n_estimators=1400, n_jobs=-1; total time=  46.4s\n",
      "[CV 4/5; 10/10] START bootstrap=True, criterion=gini, max_depth=20, max_features=sqrt, min_samples_leaf=10, min_samples_split=4, n_estimators=1400, n_jobs=-1\n",
      "[CV 4/5; 10/10] END bootstrap=True, criterion=gini, max_depth=20, max_features=sqrt, min_samples_leaf=10, min_samples_split=4, n_estimators=1400, n_jobs=-1; total time=  46.7s\n",
      "[CV 5/5; 10/10] START bootstrap=True, criterion=gini, max_depth=20, max_features=sqrt, min_samples_leaf=10, min_samples_split=4, n_estimators=1400, n_jobs=-1\n",
      "[CV 5/5; 10/10] END bootstrap=True, criterion=gini, max_depth=20, max_features=sqrt, min_samples_leaf=10, min_samples_split=4, n_estimators=1400, n_jobs=-1; total time=  46.6s\n",
      "Accuracy (Test Set): 0.88\n",
      "Precision (Test Set): 0.90\n",
      "Recall (Test Set): 0.78\n",
      "F1-Score (Test Set): 0.84\n",
      "AUC: 0.86\n"
     ]
    }
   ],
   "source": [
    "from sklearn.model_selection import RandomizedSearchCV, GridSearchCV\n",
    "\n",
    "#List Hyperparameters yang akan diuji\n",
    "hyperparameters = dict(\n",
    "                       n_estimators = [int(x) for x in np.linspace(start = 100, stop = 2000, num = 20)], # Jumlah subtree \n",
    "                       bootstrap = [True], # Apakah pakai bootstrapping atau tidak\n",
    "                       criterion = ['gini','entropy'],\n",
    "                       max_depth = [int(x) for x in np.linspace(10, 110, num = 11)],  # Maximum kedalaman tree\n",
    "                       min_samples_split = [int(x) for x in np.linspace(start = 2, stop = 10, num = 5)], # Jumlah minimum samples pada node agar boleh di split menjadi leaf baru\n",
    "                       min_samples_leaf = [int(x) for x in np.linspace(start = 1, stop = 10, num = 5)], # Jumlah minimum samples pada leaf agar boleh terbentuk leaf baru\n",
    "                       max_features = ['auto', 'sqrt', 'log2'], # Jumlah feature yg dipertimbangkan pada masing-masing split\n",
    "                       n_jobs = [-1], # Core untuk parallel computation. -1 untuk menggunakan semua core\n",
    "                      )\n",
    "\n",
    "# Init\n",
    "rf = RandomForestClassifier(random_state=42)\n",
    "rf_tuned = RandomizedSearchCV(rf, hyperparameters, cv=5, random_state=42,verbose=10)\n",
    "rf_tuned.fit(X_train,y_train)\n",
    "\n",
    "# Predict & Evaluation\n",
    "y_pred = rf_tuned.predict(X_test)#Check performa dari model\n",
    "eval_classification(rf_tuned, y_pred, X_train, y_train, X_test, y_test)"
   ]
  },
  {
   "cell_type": "markdown",
   "id": "27646267-1f39-4d3f-843f-cf711e324192",
   "metadata": {},
   "source": [
    "### XGBoost"
   ]
  },
  {
   "cell_type": "code",
   "execution_count": 190,
   "id": "dc039dd9-bddd-467b-bc25-e8edec380b68",
   "metadata": {},
   "outputs": [
    {
     "name": "stdout",
     "output_type": "stream",
     "text": [
      "Accuracy (Test Set): 0.87\n",
      "Precision (Test Set): 0.86\n",
      "Recall (Test Set): 0.81\n",
      "F1-Score (Test Set): 0.83\n",
      "AUC: 0.86\n"
     ]
    }
   ],
   "source": [
    "from xgboost import XGBClassifier\n",
    "\n",
    "xg = XGBClassifier(random_state=42, eval_metric = 'logloss', use_label_encoder = False)\n",
    "xg.fit(X_train, y_train)\n",
    "\n",
    "y_pred = xg.predict(X_test)\n",
    "eval_classification(xg, y_pred, X_train, y_train, X_test, y_test)"
   ]
  },
  {
   "cell_type": "markdown",
   "id": "d46bbcea-4baa-4970-be8a-a8b43f666264",
   "metadata": {},
   "source": [
    "## Scenario 0\n",
    "\n",
    "Data yang digunakan adalah raw data yang hanya dilakukan data cleansing + feature engineering"
   ]
  },
  {
   "cell_type": "code",
   "execution_count": 126,
   "id": "8a328373-5f57-485a-9a02-c858fe3edf2b",
   "metadata": {},
   "outputs": [],
   "source": [
    "from sklearn.model_selection import train_test_split\n",
    "\n",
    "X = df_encode_0.drop('is_canceled', axis = 1)\n",
    "y = df_encode_0['is_canceled']\n",
    "\n",
    "X_train, X_test, y_train, y_test = train_test_split(X, y, test_size = 0.3, random_state = 42)"
   ]
  },
  {
   "cell_type": "markdown",
   "id": "c174208c-ad0f-44c6-9567-7867dee53b7b",
   "metadata": {},
   "source": [
    "### Logistic Regression"
   ]
  },
  {
   "cell_type": "code",
   "execution_count": 127,
   "id": "aa138857-152d-4f96-81ec-99ec9196bfb1",
   "metadata": {},
   "outputs": [
    {
     "name": "stdout",
     "output_type": "stream",
     "text": [
      "Accuracy (Test Set): 0.73\n",
      "Precision (Test Set): 0.74\n",
      "Recall (Test Set): 0.52\n",
      "F1-Score (Test Set): 0.61\n",
      "AUC: 0.70\n"
     ]
    }
   ],
   "source": [
    "from sklearn.linear_model import LogisticRegression\n",
    "\n",
    "lr = LogisticRegression(random_state=42)\n",
    "lr.fit(X_train, y_train)\n",
    "\n",
    "y_pred = lr.predict(X_test)\n",
    "eval_classification(lr, y_pred, X_train, y_train, X_test, y_test)"
   ]
  },
  {
   "cell_type": "markdown",
   "id": "134c880e-8bc5-48d8-be7e-46f3cf64acff",
   "metadata": {},
   "source": [
    "### Decision Tree"
   ]
  },
  {
   "cell_type": "code",
   "execution_count": 128,
   "id": "44d37506-ad00-4b02-9427-af2bc87b83be",
   "metadata": {},
   "outputs": [
    {
     "name": "stdout",
     "output_type": "stream",
     "text": [
      "Accuracy (Test Set): 0.82\n",
      "Precision (Test Set): 0.77\n",
      "Recall (Test Set): 0.77\n",
      "F1-Score (Test Set): 0.77\n",
      "AUC: 0.81\n"
     ]
    }
   ],
   "source": [
    "from sklearn.tree import DecisionTreeClassifier\n",
    "model = DecisionTreeClassifier(random_state=42)\n",
    "model.fit(X_train,y_train)\n",
    "\n",
    "y_pred = model.predict(X_test)\n",
    "eval_classification(model, y_pred, X_train, y_train, X_test, y_test)"
   ]
  },
  {
   "cell_type": "markdown",
   "id": "587a179c-9a14-4a36-8a30-5e4c41064679",
   "metadata": {},
   "source": [
    "### Adaboost"
   ]
  },
  {
   "cell_type": "code",
   "execution_count": 129,
   "id": "96c53da8-7eb3-42f2-8133-e84019fe9a41",
   "metadata": {},
   "outputs": [
    {
     "name": "stdout",
     "output_type": "stream",
     "text": [
      "Accuracy (Test Set): 0.77\n",
      "Precision (Test Set): 0.78\n",
      "Recall (Test Set): 0.62\n",
      "F1-Score (Test Set): 0.69\n",
      "AUC: 0.75\n"
     ]
    }
   ],
   "source": [
    "from sklearn.ensemble import AdaBoostClassifier\n",
    "ab = AdaBoostClassifier(random_state=42)\n",
    "ab.fit(X_train,y_train)\n",
    "\n",
    "y_pred = ab.predict(X_test)\n",
    "eval_classification(ab, y_pred, X_train, y_train, X_test, y_test)"
   ]
  },
  {
   "cell_type": "markdown",
   "id": "200fd03c-7e68-4dfd-8a85-1627140fa8c3",
   "metadata": {},
   "source": [
    "### Random Forest"
   ]
  },
  {
   "cell_type": "code",
   "execution_count": 130,
   "id": "7465aedb-45d4-4e73-af04-95e11031b70d",
   "metadata": {},
   "outputs": [
    {
     "name": "stdout",
     "output_type": "stream",
     "text": [
      "Accuracy (Test Set): 0.84\n",
      "Precision (Test Set): 0.86\n",
      "Recall (Test Set): 0.72\n",
      "F1-Score (Test Set): 0.78\n",
      "AUC: 0.82\n"
     ]
    }
   ],
   "source": [
    "from sklearn.ensemble import RandomForestClassifier\n",
    "rf = RandomForestClassifier(random_state=42)\n",
    "rf.fit(X_train,y_train)\n",
    "\n",
    "y_pred = rf.predict(X_test)\n",
    "eval_classification(rf, y_pred, X_train, y_train, X_test, y_test)"
   ]
  },
  {
   "cell_type": "markdown",
   "id": "d4604655-be74-404f-8e38-d59cf77bde6d",
   "metadata": {},
   "source": [
    "### XGBoost"
   ]
  },
  {
   "cell_type": "code",
   "execution_count": 131,
   "id": "fc1c65da-b55d-431c-ab37-f18470438095",
   "metadata": {},
   "outputs": [
    {
     "name": "stdout",
     "output_type": "stream",
     "text": [
      "Accuracy (Test Set): 0.83\n",
      "Precision (Test Set): 0.80\n",
      "Recall (Test Set): 0.79\n",
      "F1-Score (Test Set): 0.79\n",
      "AUC: 0.83\n"
     ]
    }
   ],
   "source": [
    "from xgboost import XGBClassifier\n",
    "\n",
    "xg = XGBClassifier(random_state=42, eval_metric = 'logloss', use_label_encoder = False)\n",
    "xg.fit(X_train, y_train)\n",
    "\n",
    "y_pred = xg.predict(X_test)\n",
    "eval_classification(xg, y_pred, X_train, y_train, X_test, y_test)"
   ]
  },
  {
   "cell_type": "markdown",
   "id": "4b458959-2441-4171-9423-12dd29e5754b",
   "metadata": {},
   "source": [
    "## Scenario 1\n",
    "\n",
    "Data yang dilakukan cleaning, handling invalid values, duplicate data, handling outliers, feature engineering, feature selection, normalization / standarization dan feature encoding"
   ]
  },
  {
   "cell_type": "code",
   "execution_count": 132,
   "id": "8cad62b9-5be3-4a07-b9d3-da93e582f316",
   "metadata": {},
   "outputs": [],
   "source": [
    "from sklearn.model_selection import train_test_split\n",
    "\n",
    "X = df_encode.drop('is_canceled', axis = 1)\n",
    "y = df_encode['is_canceled']\n",
    "\n",
    "X_train, X_test, y_train, y_test = train_test_split(X, y, test_size = 0.3, random_state = 42)"
   ]
  },
  {
   "cell_type": "markdown",
   "id": "01698797-8e34-4ab3-8994-3aa1c0efa564",
   "metadata": {},
   "source": [
    "### Logistic Regression"
   ]
  },
  {
   "cell_type": "code",
   "execution_count": 133,
   "id": "70b4cdce-9ffe-4f90-aca3-3e212f316ce2",
   "metadata": {},
   "outputs": [
    {
     "name": "stdout",
     "output_type": "stream",
     "text": [
      "Accuracy (Test Set): 0.71\n",
      "Precision (Test Set): 0.70\n",
      "Recall (Test Set): 0.46\n",
      "F1-Score (Test Set): 0.55\n",
      "AUC: 0.66\n"
     ]
    }
   ],
   "source": [
    "from sklearn.linear_model import LogisticRegression\n",
    "lr = LogisticRegression(random_state=42)\n",
    "lr.fit(X_train, y_train)\n",
    "\n",
    "y_pred = lr.predict(X_test)\n",
    "eval_classification(lr, y_pred, X_train, y_train, X_test, y_test)"
   ]
  },
  {
   "cell_type": "markdown",
   "id": "b418900d-6201-4bb0-81cb-dd477b07f4ae",
   "metadata": {},
   "source": [
    "### Decision Tree"
   ]
  },
  {
   "cell_type": "code",
   "execution_count": 134,
   "id": "f389baed-7996-4339-9959-a4daec0cbc31",
   "metadata": {},
   "outputs": [
    {
     "name": "stdout",
     "output_type": "stream",
     "text": [
      "Accuracy (Test Set): 0.78\n",
      "Precision (Test Set): 0.72\n",
      "Recall (Test Set): 0.73\n",
      "F1-Score (Test Set): 0.72\n",
      "AUC: 0.77\n"
     ]
    }
   ],
   "source": [
    "from sklearn.tree import DecisionTreeClassifier\n",
    "model = DecisionTreeClassifier(random_state=42)\n",
    "model.fit(X_train,y_train)\n",
    "\n",
    "y_pred = model.predict(X_test)\n",
    "eval_classification(model, y_pred, X_train, y_train, X_test, y_test)"
   ]
  },
  {
   "cell_type": "markdown",
   "id": "5b8a3325-254f-405c-a677-32fbd725ea63",
   "metadata": {},
   "source": [
    "### Adaboost"
   ]
  },
  {
   "cell_type": "code",
   "execution_count": 135,
   "id": "323f5d95-f972-4a94-a2a3-112dd526561c",
   "metadata": {},
   "outputs": [
    {
     "name": "stdout",
     "output_type": "stream",
     "text": [
      "Accuracy (Test Set): 0.76\n",
      "Precision (Test Set): 0.75\n",
      "Recall (Test Set): 0.59\n",
      "F1-Score (Test Set): 0.66\n",
      "AUC: 0.73\n"
     ]
    }
   ],
   "source": [
    "from sklearn.ensemble import AdaBoostClassifier\n",
    "ab = AdaBoostClassifier(random_state=42)\n",
    "ab.fit(X_train,y_train)\n",
    "\n",
    "y_pred = ab.predict(X_test)\n",
    "eval_classification(ab, y_pred, X_train, y_train, X_test, y_test)"
   ]
  },
  {
   "cell_type": "markdown",
   "id": "cbcc6a3f-5a5d-4b1f-824a-9d3a7dbf468b",
   "metadata": {},
   "source": [
    "### Random Forest"
   ]
  },
  {
   "cell_type": "code",
   "execution_count": 136,
   "id": "f43a8e0e-f633-4521-a70a-a2088c3505cb",
   "metadata": {},
   "outputs": [
    {
     "name": "stdout",
     "output_type": "stream",
     "text": [
      "Accuracy (Test Set): 0.82\n",
      "Precision (Test Set): 0.83\n",
      "Recall (Test Set): 0.69\n",
      "F1-Score (Test Set): 0.75\n",
      "AUC: 0.80\n"
     ]
    }
   ],
   "source": [
    "from sklearn.ensemble import RandomForestClassifier\n",
    "rf = RandomForestClassifier(random_state=42)\n",
    "rf.fit(X_train,y_train)\n",
    "\n",
    "y_pred = rf.predict(X_test)\n",
    "eval_classification(rf, y_pred, X_train, y_train, X_test, y_test)"
   ]
  },
  {
   "cell_type": "markdown",
   "id": "19d58a19-23d3-4777-bf77-58cb1c6b5c7f",
   "metadata": {},
   "source": [
    "### XGBoost"
   ]
  },
  {
   "cell_type": "code",
   "execution_count": 137,
   "id": "4e89758a-7452-4d76-926e-c75ea7971da3",
   "metadata": {},
   "outputs": [],
   "source": [
    "for i in X_train.columns:\n",
    "    if X_train[i].dtypes == 'O':\n",
    "        print(i)"
   ]
  },
  {
   "cell_type": "code",
   "execution_count": 138,
   "id": "4437d93a-2ef1-4efc-8cfe-f7cfc67de7c6",
   "metadata": {},
   "outputs": [
    {
     "name": "stdout",
     "output_type": "stream",
     "text": [
      "Accuracy (Test Set): 0.82\n",
      "Precision (Test Set): 0.77\n",
      "Recall (Test Set): 0.78\n",
      "F1-Score (Test Set): 0.78\n",
      "AUC: 0.81\n"
     ]
    }
   ],
   "source": [
    "from xgboost import XGBClassifier\n",
    "\n",
    "xg = XGBClassifier(random_state=42, eval_metric = 'logloss', use_label_encoder = False)\n",
    "xg.fit(X_train, y_train)\n",
    "\n",
    "y_pred = xg.predict(X_test)\n",
    "eval_classification(xg, y_pred, X_train, y_train, X_test, y_test)"
   ]
  },
  {
   "cell_type": "markdown",
   "id": "bd5fdcaa-b4da-44ff-9deb-2350b30274d6",
   "metadata": {},
   "source": [
    "## Scenario 2"
   ]
  },
  {
   "cell_type": "code",
   "execution_count": 139,
   "id": "cf73fb74-725f-4d18-a77a-3b333a99ce0d",
   "metadata": {},
   "outputs": [],
   "source": [
    "from sklearn.model_selection import train_test_split\n",
    "\n",
    "X = df_encode_2.drop('is_canceled', axis = 1)\n",
    "y = df_encode_2['is_canceled']\n",
    "\n",
    "X_train, X_test, y_train, y_test = train_test_split(X, y, test_size = 0.3, random_state = 42)"
   ]
  },
  {
   "cell_type": "markdown",
   "id": "0375ef01-3189-49e9-9257-d3bc3ad8ee7e",
   "metadata": {},
   "source": [
    "### Logistic Regression"
   ]
  },
  {
   "cell_type": "code",
   "execution_count": 140,
   "id": "6fbd52f3-65a7-450a-8c76-6738c3eda915",
   "metadata": {},
   "outputs": [
    {
     "name": "stdout",
     "output_type": "stream",
     "text": [
      "Accuracy (Test Set): 0.73\n",
      "Precision (Test Set): 0.74\n",
      "Recall (Test Set): 0.52\n",
      "F1-Score (Test Set): 0.61\n",
      "AUC: 0.70\n"
     ]
    }
   ],
   "source": [
    "from sklearn.linear_model import LogisticRegression\n",
    "lr = LogisticRegression(random_state=42)\n",
    "lr.fit(X_train, y_train)\n",
    "\n",
    "y_pred = lr.predict(X_test)\n",
    "eval_classification(lr, y_pred, X_train, y_train, X_test, y_test)"
   ]
  },
  {
   "cell_type": "markdown",
   "id": "01628589-79b2-4681-bbc8-b6763d76659f",
   "metadata": {},
   "source": [
    "### Decision Tree"
   ]
  },
  {
   "cell_type": "code",
   "execution_count": 141,
   "id": "fc3db298-95df-4a54-a298-09310bf4561b",
   "metadata": {},
   "outputs": [
    {
     "name": "stdout",
     "output_type": "stream",
     "text": [
      "Accuracy (Test Set): 0.82\n",
      "Precision (Test Set): 0.77\n",
      "Recall (Test Set): 0.77\n",
      "F1-Score (Test Set): 0.77\n",
      "AUC: 0.81\n"
     ]
    }
   ],
   "source": [
    "from sklearn.tree import DecisionTreeClassifier\n",
    "model = DecisionTreeClassifier(random_state=42)\n",
    "model.fit(X_train,y_train)\n",
    "\n",
    "y_pred = model.predict(X_test)\n",
    "eval_classification(model, y_pred, X_train, y_train, X_test, y_test)"
   ]
  },
  {
   "cell_type": "markdown",
   "id": "10df4a92-ec5e-4ed2-8565-ca0014830b27",
   "metadata": {},
   "source": [
    "### Adaboost"
   ]
  },
  {
   "cell_type": "code",
   "execution_count": 142,
   "id": "9d9e73e3-efce-477a-a7e7-52e3e9d00eee",
   "metadata": {},
   "outputs": [
    {
     "name": "stdout",
     "output_type": "stream",
     "text": [
      "Accuracy (Test Set): 0.77\n",
      "Precision (Test Set): 0.78\n",
      "Recall (Test Set): 0.62\n",
      "F1-Score (Test Set): 0.69\n",
      "AUC: 0.75\n"
     ]
    }
   ],
   "source": [
    "from sklearn.ensemble import AdaBoostClassifier\n",
    "ab = AdaBoostClassifier(random_state=42)\n",
    "ab.fit(X_train,y_train)\n",
    "\n",
    "y_pred = ab.predict(X_test)\n",
    "eval_classification(ab, y_pred, X_train, y_train, X_test, y_test)"
   ]
  },
  {
   "cell_type": "markdown",
   "id": "41d084ec-320f-4c3b-977b-e315d2d41ee7",
   "metadata": {},
   "source": [
    "### Random Forest"
   ]
  },
  {
   "cell_type": "code",
   "execution_count": 143,
   "id": "b40f590c-d480-4cdf-8097-b5581f6ee861",
   "metadata": {},
   "outputs": [
    {
     "name": "stdout",
     "output_type": "stream",
     "text": [
      "Accuracy (Test Set): 0.84\n",
      "Precision (Test Set): 0.86\n",
      "Recall (Test Set): 0.72\n",
      "F1-Score (Test Set): 0.78\n",
      "AUC: 0.82\n"
     ]
    }
   ],
   "source": [
    "from sklearn.ensemble import RandomForestClassifier\n",
    "rf = RandomForestClassifier(random_state=42)\n",
    "rf.fit(X_train,y_train)\n",
    "\n",
    "y_pred = rf.predict(X_test)\n",
    "eval_classification(rf, y_pred, X_train, y_train, X_test, y_test)"
   ]
  },
  {
   "cell_type": "markdown",
   "id": "5961f813-7fdd-4382-a910-91b761f00996",
   "metadata": {},
   "source": [
    "### XGBoost"
   ]
  },
  {
   "cell_type": "code",
   "execution_count": 144,
   "id": "595cf3f6-ed5b-488c-b57b-c91bda3df74a",
   "metadata": {},
   "outputs": [
    {
     "name": "stdout",
     "output_type": "stream",
     "text": [
      "Accuracy (Test Set): 0.83\n",
      "Precision (Test Set): 0.80\n",
      "Recall (Test Set): 0.79\n",
      "F1-Score (Test Set): 0.79\n",
      "AUC: 0.83\n"
     ]
    }
   ],
   "source": [
    "from xgboost import XGBClassifier\n",
    "\n",
    "xg = XGBClassifier(random_state=42, eval_metric = 'logloss', use_label_encoder = False)\n",
    "xg.fit(X_train, y_train)\n",
    "\n",
    "y_pred = xg.predict(X_test)\n",
    "eval_classification(xg, y_pred, X_train, y_train, X_test, y_test)"
   ]
  },
  {
   "cell_type": "code",
   "execution_count": null,
   "id": "393331bf-6f0b-45d9-91cd-1f540ff0044b",
   "metadata": {},
   "outputs": [],
   "source": []
  }
 ],
 "metadata": {
  "kernelspec": {
   "display_name": "Python 3",
   "language": "python",
   "name": "python3"
  },
  "language_info": {
   "codemirror_mode": {
    "name": "ipython",
    "version": 3
   },
   "file_extension": ".py",
   "mimetype": "text/x-python",
   "name": "python",
   "nbconvert_exporter": "python",
   "pygments_lexer": "ipython3",
   "version": "3.8.8"
  }
 },
 "nbformat": 4,
 "nbformat_minor": 5
}
